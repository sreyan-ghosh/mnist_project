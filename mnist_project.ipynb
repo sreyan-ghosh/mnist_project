{
  "nbformat": 4,
  "nbformat_minor": 0,
  "metadata": {
    "colab": {
      "name": "mnist_project.ipynb",
      "provenance": [],
      "collapsed_sections": []
    },
    "kernelspec": {
      "name": "python3",
      "display_name": "Python 3"
    },
    "accelerator": "GPU"
  },
  "cells": [
    {
      "cell_type": "code",
      "metadata": {
        "id": "D5AC050l7WCt",
        "colab_type": "code",
        "colab": {
          "base_uri": "https://localhost:8080/",
          "height": 71
        },
        "outputId": "5c73b7a7-52c0-43d4-afa2-93ad970447d0"
      },
      "source": [
        "import tensorflow as tf\n",
        "import tensorflow.keras as keras\n",
        "from keras.datasets import mnist\n",
        "from keras import backend as K\n",
        "import matplotlib.pyplot as plt\n",
        "import seaborn as sns"
      ],
      "execution_count": 19,
      "outputs": [
        {
          "output_type": "stream",
          "text": [
            "/usr/local/lib/python3.6/dist-packages/statsmodels/tools/_testing.py:19: FutureWarning: pandas.util.testing is deprecated. Use the functions in the public API at pandas.testing instead.\n",
            "  import pandas.util.testing as tm\n"
          ],
          "name": "stderr"
        }
      ]
    },
    {
      "cell_type": "code",
      "metadata": {
        "id": "e9PN3TGQ7z9b",
        "colab_type": "code",
        "colab": {}
      },
      "source": [
        "# assigning global variables\n",
        "BATCH_SIZE = 128\n",
        "NUM_CLASSES = 10\n",
        "EPOCHS = 13"
      ],
      "execution_count": 2,
      "outputs": []
    },
    {
      "cell_type": "code",
      "metadata": {
        "id": "d9abXPQZ7-Pf",
        "colab_type": "code",
        "colab": {}
      },
      "source": [
        "#assigning image dimensions\n",
        "img_rows, img_cols = 28, 28"
      ],
      "execution_count": 3,
      "outputs": []
    },
    {
      "cell_type": "code",
      "metadata": {
        "id": "NuqkK0w08IhG",
        "colab_type": "code",
        "colab": {
          "base_uri": "https://localhost:8080/",
          "height": 51
        },
        "outputId": "a421488e-9f99-4d3d-b485-d3d38e6068f3"
      },
      "source": [
        "#loading data from the dataset\n",
        "(X_train, y_train), (X_test, y_test) = mnist.load_data()"
      ],
      "execution_count": 4,
      "outputs": [
        {
          "output_type": "stream",
          "text": [
            "Downloading data from https://s3.amazonaws.com/img-datasets/mnist.npz\n",
            "11493376/11490434 [==============================] - 2s 0us/step\n"
          ],
          "name": "stdout"
        }
      ]
    },
    {
      "cell_type": "code",
      "metadata": {
        "id": "XgQFoCAG8UCu",
        "colab_type": "code",
        "colab": {}
      },
      "source": [
        "# image reshaping based on data format\n",
        "# 'channels_first' assumes the image_data_format as (channels, dim1, dim2, dim3)\n",
        "# 'channels_last' assumes the image_data_format as (dim1, dim2, dim3, channels)\n",
        "if K.image_data_format() == 'channels_first':\n",
        "    X_train = X_train.reshape(X_train.shape[0], 1, img_rows, img_cols)\n",
        "    X_test = X_test.reshape(X_test.shape[0], 1, img_rows, img_cols)\n",
        "    input_shape = (1, img_rows, img_cols)\n",
        "else:\n",
        "    X_train = X_train.reshape(X_train.shape[0], img_rows, img_cols, 1)\n",
        "    X_test = X_test.reshape(X_test.shape[0], img_rows, img_cols, 1)\n",
        "    input_shape = (img_rows, img_cols, 1)"
      ],
      "execution_count": 5,
      "outputs": []
    },
    {
      "cell_type": "code",
      "metadata": {
        "id": "T8GRKH-b9xAh",
        "colab_type": "code",
        "colab": {
          "base_uri": "https://localhost:8080/",
          "height": 51
        },
        "outputId": "d0027cbe-491c-4531-f0c9-0166c18aefc3"
      },
      "source": [
        "X_train = X_train.astype('float32')\n",
        "X_test = X_test.astype('float32')\n",
        "X_train /= 255\n",
        "X_test /= 255\n",
        "print('X_train shape: ', X_train.shape)\n",
        "print('X_test shape: ', X_test.shape)"
      ],
      "execution_count": 7,
      "outputs": [
        {
          "output_type": "stream",
          "text": [
            "X_train shape:  (60000, 28, 28, 1)\n",
            "X_test shape:  (10000, 28, 28, 1)\n"
          ],
          "name": "stdout"
        }
      ]
    },
    {
      "cell_type": "code",
      "metadata": {
        "id": "92VHa0tg-P9v",
        "colab_type": "code",
        "colab": {}
      },
      "source": [
        "# converting y_train and y_test to categorical variables for easier computation\n",
        "y_train = keras.utils.to_categorical(y_train, NUM_CLASSES)\n",
        "y_test = keras.utils.to_categorical(y_test, NUM_CLASSES)"
      ],
      "execution_count": 8,
      "outputs": []
    },
    {
      "cell_type": "code",
      "metadata": {
        "id": "_fwFP5iq-5K-",
        "colab_type": "code",
        "colab": {}
      },
      "source": [
        "# creating the model using keras Sequential\n",
        "model = keras.Sequential([\n",
        "                          keras.layers.Conv2D(32, kernel_size=(3,3), activation='relu', input_shape=input_shape),\n",
        "                          keras.layers.Conv2D(64, kernel_size=(3,3), activation='relu'),\n",
        "                          keras.layers.MaxPooling2D(pool_size=(2,2)),\n",
        "                          keras.layers.Dropout(0.25),\n",
        "                          keras.layers.Flatten(),\n",
        "                          keras.layers.Dense(128, activation='relu'),\n",
        "                          keras.layers.Dropout(0.5),\n",
        "                          keras.layers.Dense(NUM_CLASSES, activation='softmax')\n",
        "])"
      ],
      "execution_count": 20,
      "outputs": []
    },
    {
      "cell_type": "code",
      "metadata": {
        "id": "kGkWooDn_74q",
        "colab_type": "code",
        "colab": {}
      },
      "source": [
        "# model.summary() yields that there are about 1.2 million trainable params\n",
        "# compiling the model\n",
        "model.compile(loss = keras.losses.categorical_crossentropy, optimizer=keras.optimizers.Adam(), metrics=['accuracy'])"
      ],
      "execution_count": 21,
      "outputs": []
    },
    {
      "cell_type": "code",
      "metadata": {
        "id": "gvF4XEOx_9uB",
        "colab_type": "code",
        "colab": {
          "base_uri": "https://localhost:8080/",
          "height": 459
        },
        "outputId": "86ade4e8-5131-4273-b9ca-6c15f13f8a45"
      },
      "source": [
        "# training the model using the .fit method\n",
        "history = model.fit(X_train, y_train, batch_size=BATCH_SIZE, epochs=EPOCHS, verbose=1, validation_data=(X_test, y_test))"
      ],
      "execution_count": 22,
      "outputs": [
        {
          "output_type": "stream",
          "text": [
            "Epoch 1/13\n",
            "469/469 [==============================] - 7s 16ms/step - loss: 0.2282 - accuracy: 0.9301 - val_loss: 0.0509 - val_accuracy: 0.9826\n",
            "Epoch 2/13\n",
            "469/469 [==============================] - 7s 15ms/step - loss: 0.0847 - accuracy: 0.9749 - val_loss: 0.0404 - val_accuracy: 0.9865\n",
            "Epoch 3/13\n",
            "469/469 [==============================] - 7s 15ms/step - loss: 0.0625 - accuracy: 0.9815 - val_loss: 0.0359 - val_accuracy: 0.9884\n",
            "Epoch 4/13\n",
            "469/469 [==============================] - 7s 15ms/step - loss: 0.0527 - accuracy: 0.9839 - val_loss: 0.0366 - val_accuracy: 0.9877\n",
            "Epoch 5/13\n",
            "469/469 [==============================] - 7s 15ms/step - loss: 0.0445 - accuracy: 0.9864 - val_loss: 0.0298 - val_accuracy: 0.9900\n",
            "Epoch 6/13\n",
            "469/469 [==============================] - 7s 15ms/step - loss: 0.0382 - accuracy: 0.9880 - val_loss: 0.0296 - val_accuracy: 0.9912\n",
            "Epoch 7/13\n",
            "469/469 [==============================] - 7s 15ms/step - loss: 0.0342 - accuracy: 0.9893 - val_loss: 0.0315 - val_accuracy: 0.9907\n",
            "Epoch 8/13\n",
            "469/469 [==============================] - 7s 15ms/step - loss: 0.0322 - accuracy: 0.9897 - val_loss: 0.0275 - val_accuracy: 0.9908\n",
            "Epoch 9/13\n",
            "469/469 [==============================] - 7s 15ms/step - loss: 0.0289 - accuracy: 0.9909 - val_loss: 0.0294 - val_accuracy: 0.9902\n",
            "Epoch 10/13\n",
            "469/469 [==============================] - 7s 15ms/step - loss: 0.0269 - accuracy: 0.9913 - val_loss: 0.0259 - val_accuracy: 0.9926\n",
            "Epoch 11/13\n",
            "469/469 [==============================] - 7s 15ms/step - loss: 0.0244 - accuracy: 0.9924 - val_loss: 0.0251 - val_accuracy: 0.9927\n",
            "Epoch 12/13\n",
            "469/469 [==============================] - 7s 15ms/step - loss: 0.0212 - accuracy: 0.9929 - val_loss: 0.0310 - val_accuracy: 0.9915\n",
            "Epoch 13/13\n",
            "469/469 [==============================] - 7s 15ms/step - loss: 0.0213 - accuracy: 0.9929 - val_loss: 0.0272 - val_accuracy: 0.9925\n"
          ],
          "name": "stdout"
        }
      ]
    },
    {
      "cell_type": "code",
      "metadata": {
        "id": "0n82ZNdGA5Mc",
        "colab_type": "code",
        "colab": {
          "base_uri": "https://localhost:8080/",
          "height": 34
        },
        "outputId": "2cf8edb7-d984-4190-809f-be44315146db"
      },
      "source": [
        "# accuracy estimation\n",
        "score = model.evaluate(X_test, y_test, verbose=0)\n",
        "print('Test accuracy: ', score[1])\n",
        "print('Test loss: ', score[0])"
      ],
      "execution_count": 23,
      "outputs": [
        {
          "output_type": "stream",
          "text": [
            "[0.027228204533457756, 0.9925000071525574]\n"
          ],
          "name": "stdout"
        }
      ]
    },
    {
      "cell_type": "code",
      "metadata": {
        "id": "6F2HaNWhBGL0",
        "colab_type": "code",
        "colab": {
          "base_uri": "https://localhost:8080/",
          "height": 499
        },
        "outputId": "cf7c401c-8192-45a5-e06d-d0607389812d"
      },
      "source": [
        "# visualizing the accuracy and loss\n",
        "plt.figure(figsize=(16,8))\n",
        "plt.subplot(1,2,1)\n",
        "plt.plot(range(EPOCHS), history.history['accuracy'], label='Training Accuracy')\n",
        "plt.plot(range(EPOCHS), history.history['val_accuracy'], label='Validation Accuracy')\n",
        "plt.legend(loc='lower right')\n",
        "plt.title('Training and Validation Accuracy')\n",
        "\n",
        "plt.subplot(1,2,2)\n",
        "plt.plot(range(EPOCHS), history.history['loss'], label='Training Loss')\n",
        "plt.plot(range(EPOCHS), history.history['val_loss'], label='Validation Losss')\n",
        "plt.legend(loc='upper right')\n",
        "plt.title('Training and Validation Loss')\n",
        "plt.show()"
      ],
      "execution_count": 34,
      "outputs": [
        {
          "output_type": "display_data",
          "data": {
            "image/png": "[encoded data removed]",
            "text/plain": [
              "<Figure size 1152x576 with 2 Axes>"
            ]
          },
          "metadata": {
            "tags": [],
            "needs_background": "light"
          }
        }
      ]
    },
    {
      "cell_type": "code",
      "metadata": {
        "id": "7cv_L5jQEW04",
        "colab_type": "code",
        "colab": {
          "base_uri": "https://localhost:8080/",
          "height": 34
        },
        "outputId": "b9ada19c-130a-449e-e9b8-40d526ae8aca"
      },
      "source": [
        "# saving the model\n",
        "model_json = model.to_json()\n",
        "with open('model.json', 'w') as f:\n",
        "    f.write(model_json)\n",
        "\n",
        "# serialize the weights to HDF5 file\n",
        "model.save_weights('model.h5')\n",
        "print('Model Saved')"
      ],
      "execution_count": 35,
      "outputs": [
        {
          "output_type": "stream",
          "text": [
            "Model Saved\n"
          ],
          "name": "stdout"
        }
      ]
    },
    {
      "cell_type": "code",
      "metadata": {
        "id": "-DLg9x_DF2bA",
        "colab_type": "code",
        "colab": {}
      },
      "source": [
        ""
      ],
      "execution_count": null,
      "outputs": []
    }
  ]
}